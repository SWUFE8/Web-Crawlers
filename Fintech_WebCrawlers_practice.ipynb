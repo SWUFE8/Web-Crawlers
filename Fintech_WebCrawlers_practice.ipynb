{
 "cells": [
  {
   "cell_type": "markdown",
   "metadata": {},
   "source": [
    "# Fintech Summer Code\n",
    "本次实践要达到如下目标：\n",
    "* 分析某个时间段内成都市某区的房价趋势，比如：2017年8月1日至9月1日成都市武侯区房价趋势\n",
    "* 分析某个时间段内成都市某区按照房屋面积的房价趋势，比如：2017年8月1日至9月1日成都市武侯区80-100、100-120、120-140、140-160的房价走势\n",
    "\n",
    "本次实践主要用到以下三个python第三方库：\n",
    "* [requests](http://docs.python-requests.org/en/master/)\n",
    "* [beautifulsoup](https://www.crummy.com/software/BeautifulSoup/)\n",
    "* [matplotlib](http://matplotlib.org/)"
   ]
  },
  {
   "cell_type": "markdown",
   "metadata": {},
   "source": [
    "## 1. 抓取链家网的成都市某区的房屋交易列表页面"
   ]
  },
  {
   "cell_type": "markdown",
   "metadata": {},
   "source": [
    "### 1.1. 示例\n",
    "以武侯区的房屋交易列表为例，其url为： https://cd.lianjia.com/ershoufang/wuhou/。\n",
    "下面的代码将会抓取第一页的房屋交易信息，并获取房屋的名称"
   ]
  },
  {
   "cell_type": "code",
   "execution_count": 1,
   "metadata": {},
   "outputs": [
    {
     "name": "stdout",
     "output_type": "stream",
     "text": [
      "榕苑    精装套三   拎包入住   方便出行\n",
      "武侯区 上道西城 套二 有装修..\n",
      "武侯区 武青北路尚房国际 公 馆\n",
      "上道西城套二 全中庭精装修 客厅带阳台\n",
      "武侯区武青北路 尚房国际公馆套三\n",
      "竹韵天府  标准套二  中间楼层\n",
      "三环内 标准套三双卫 户型通透\n",
      "麻雀虽小五脏俱全，标准套一，户型方正！\n",
      "标准套二  户型方正 采光好 不临街\n",
      "三环内 16年新小区 电梯房 精装修 标准套三\n",
      "中铁金花国际城 3室2厅 192万\n",
      "双楠风景带大花园的套三，有装修，不临街\n",
      "二环边 通透户型 套四双卫 业主换房 诚意出售\n",
      "龙爪堰地铁口 浣花溪旁 电梯套二 居家装修 采光好\n",
      "武侯区 新双楠 簇桥 龙锦晓筑 电梯精装套二 拎包入住\n",
      "中间楼层，单价不到1万，明厨明卫的套二\n",
      "套三采光充足，有装修，中间楼层\n",
      "南门  桐梓林 1号地铁线，别墅区，两户两户\n",
      "长条户型，动静分区，带一个小平台\n",
      "方正通透 三居室双阳台  商品房\n",
      "套三双卫，客厅带阳台，有电梯，带装修\n",
      "首 航 欣 程 标 准 大 套 二\n",
      "精装刚需套二 次新小区 临地铁口\n",
      "肖家河 标准套二 通透户型 采光好\n",
      "摩卡筑跃层 业主自住装修 实际使用面积120平米\n",
      "蓓蕾西巷6号 套三出售，不临街南北通透格局\n",
      "居家装修，保利套二，户型方正。\n",
      "武侯  新双楠 标准套三  诚心出售  满两年\n",
      "江安河畔 优质套三双卫 精装修 客厅带超大阳台 朝西南\n",
      "华宇楠苑    对中庭      套四\n"
     ]
    }
   ],
   "source": [
    "# 获取链家网武侯区房产交易信息的第一页\n",
    "import random\n",
    "import requests\n",
    "from bs4 import BeautifulSoup\n",
    "\n",
    "# 设置要抓取的页面链接\n",
    "url = 'https://cd.lianjia.com/ershoufang/wuhou/'\n",
    "\n",
    "# User-Agent 在后面随机选取\n",
    "user_agents = [\n",
    "    'Mozilla/5.0 (Windows NT 6.4; WOW64) AppleWebKit/537.36 (KHTML, like Gecko) Chrome/41.0.2225.0 Safari/537.36',\n",
    "    'Mozilla/5.0 (Windows; U; Windows NT 6.1; tr; rv:1.9.1.9) Gecko/20100315 Firefox/3.5.9 GTB7.1',\n",
    "    'Mozilla/5.0 (Macintosh; Intel Mac OS X 10_12_6) AppleWebKit/537.36 (KHTML, like Gecko) Chrome/59.0.3071.115 Safari/537.36',\n",
    "    'Mozilla/5.0 (Macintosh; Intel Mac OS X 10_12_6) AppleWebKit/603.3.8 (KHTML, like Gecko) Version/10.1.2 Safari/603.3.8',\n",
    "    'Mozilla/5.0 (Macintosh; Intel Mac OS X 10.12; rv:54.0) Gecko/20100101 Firefox/54.0',\n",
    "    'Mozilla/5.0 (compatible; MSIE 9.0; Windows NT 6.1; de) Opera 11.51'\n",
    "]\n",
    "\n",
    "# 设置http访问的客户端信息，避免被反爬\n",
    "headers = {\n",
    "    'Accept': 'text/html,application/xhtml+xml,application/xml;q=0.9,image/webp,image/apng,*/*;q=0.8',\n",
    "    'Accept-Encoding': 'gzip, deflate, br',\n",
    "    'Accept-Language': 'en-US,en;q=0.8,zh-CN;q=0.6,zh;q=0.4,zh-TW;q=0.2',\n",
    "    'Cache-Control': 'max-age=0',\n",
    "    'Connection': 'keep-alive',\n",
    "    'Referer': 'https://cd.lianjia.com/ershoufang/',\n",
    "    'Upgrade-Insecure-Requests': '1',\n",
    "    'User-Agent': random.choice(user_agents)  \n",
    "}\n",
    "\n",
    "# 抓取列表页所有房屋的标题\n",
    "r = requests.get(url, headers=headers)\n",
    "if r.status_code == 200:\n",
    "    # 获取成功\n",
    "    soup = BeautifulSoup(r.content, 'lxml')\n",
    "    ul_tag = soup.find('ul', {'class': 'sellListContent'})\n",
    "    for li_tag in ul_tag.find_all('li', {'class': 'clear'}):\n",
    "        div = li_tag.find('div', {'class': 'info clear'})\n",
    "        title = div.div.a.string.strip()\n",
    "        print(title)   "
   ]
  },
  {
   "cell_type": "markdown",
   "metadata": {},
   "source": [
    "### 1.2 作业\n",
    "请大家以1.1示例作为参考，任意选择成都市的一个区，抓取该区的房屋信息，并且抓取的内容包括： 房屋名称、房屋单价、房屋面积。\n",
    "并且请大家每天执行该程序几次，收集尽量多的数据，便于后续的数据分析。"
   ]
  },
  {
   "cell_type": "markdown",
   "metadata": {},
   "source": [
    "## 2. 将数据存储为csv格式的文本文件"
   ]
  },
  {
   "cell_type": "markdown",
   "metadata": {},
   "source": [
    "### 2.1 示例"
   ]
  },
  {
   "cell_type": "code",
   "execution_count": 2,
   "metadata": {
    "collapsed": true
   },
   "outputs": [],
   "source": [
    "# 演示如何将数据保存为csv格式的文本文件\n",
    "import datetime\n",
    "\n",
    "# 用于示例的数据，该数据仅包含房屋名称\n",
    "houses = [\n",
    "    '中海龙湾半岛  套三双卫  朝南对中庭  位置安静',\n",
    "    '居家装修套二、不临街、客厅带阳台',\n",
    "    '卫欣苑，标准套三，有装修，户型方正采光好',\n",
    "    '花间兰庭 电梯 不临街 两室一厅',\n",
    "    '兴元嘉园 电梯套四 带花园 客厅带阳台',\n",
    "    '双楠映象 套三 客厅朝西南 一梯两户 客厅有阳台',\n",
    "    '电梯套二 中庭朝南 客厅有阳台 明厨明卫',\n",
    "    '套二改套三，有装修，电梯四楼，采光不错。',\n",
    "    '溢阳绿城 多层套三 装修保养好，户型方正',\n",
    "    '会所花园 套三 有装修 有家具家电',\n",
    "    '中华名园二期 套二 有装修有阳台',\n",
    "    '常春藤花园 套三 有装修 不临街朝东',\n",
    "    '黉门公馆，跃层套二，客厅卧室带生活阳台',\n",
    "    '一环边，罗浮世家二期，对中庭，正南向',\n",
    "    '美好时光 标准套三 东北朝向 采光好',\n",
    "    '成都A区套二，跃层的，双卫的。',\n",
    "    '竹韵天府  套四   有装修  有阳台',\n",
    "    '林荫街9号 中楼层 三居室 安静不临街',\n",
    "    '维港 套二有装修 客厅带大阳台 东南朝向  采光好',\n",
    "    '川大新南村     户型方正套三     不临街',\n",
    "    '上锦雅筑套二，有装修  带阳台',\n",
    "    '芳草地 多层 中间楼层 套四  不临街',\n",
    "    '颐和雅居套三双卫有装修 客厅带阳台',\n",
    "    '天竺丽苑  电梯套三双卫  有装修'     \n",
    "]\n",
    "\n",
    "# 以追加模式打开一个文件，写入房屋信息\n",
    "with open('houses.csv', 'a') as f:\n",
    "    for house in houses:\n",
    "        # 获取当前时间字符串，比如: 2017-08-01 22:30:21\n",
    "        cur = datetime.datetime.now()\n",
    "        cur_str = cur.strftime('%Y-%m-%d %H:%M:%S')\n",
    "        # csv的分隔符用的 | \n",
    "        line = '{}|{}\\n'.format(cur_str, house)\n",
    "        f.write(line)\n"
   ]
  },
  {
   "cell_type": "markdown",
   "metadata": {},
   "source": [
    "### 2.2 作业\n",
    "以2.1示例代码作为参考，将1.2作业中抓取的数据存入houses.csv文件中，每一行存储四个字段：保存时间、房屋名称、房屋单价、房屋面积\n",
    "\n",
    "`2017-08-05 11:31:53|中海龙湾半岛  套三双卫  朝南对中庭  位置安静|12000|120`"
   ]
  },
  {
   "cell_type": "markdown",
   "metadata": {},
   "source": [
    "## 3. 将数据用图表展示出来"
   ]
  },
  {
   "cell_type": "markdown",
   "metadata": {},
   "source": [
    "### 3.1 示例"
   ]
  },
  {
   "cell_type": "code",
   "execution_count": 3,
   "metadata": {
    "scrolled": true
   },
   "outputs": [
    {
     "data": {
      "text/plain": [
       "<Figure size 1000x400 with 1 Axes>"
      ]
     },
     "metadata": {},
     "output_type": "display_data"
    }
   ],
   "source": [
    "# 展示如何使用matplotlib图形化数据\n",
    "from datetime import datetime\n",
    "import matplotlib.pyplot as plt\n",
    "\n",
    "# 用于示例的数据，仅包含日期和房屋单价\n",
    "houses = [\n",
    "    ('2017-07-01', 12000.00),\n",
    "    ('2017-07-02', 11000.00),\n",
    "    ('2017-07-03', 12056.00),\n",
    "    ('2017-07-04', 14000.00),\n",
    "    ('2017-07-05', 13000.00),\n",
    "    ('2017-07-06', 9000.00),\n",
    "    ('2017-07-07', 9090.00),\n",
    "    ('2017-07-08', 10000.00),\n",
    "    ('2017-07-09', 11010.00),\n",
    "    ('2017-07-10', 9900.00),\n",
    "    ('2017-07-11', 9990.00),\n",
    "    ('2017-07-12', 15000.00),\n",
    "    ('2017-07-13', 16000.00)\n",
    "]\n",
    "\n",
    "x = [datetime.strptime(house[0], '%Y-%m-%d').date() for house in houses]\n",
    "y = [house[1] for house in houses]\n",
    "\n",
    "plt.figure(figsize=(10, 4))\n",
    "plt.plot(x, y, '-go')\n",
    "plt.show()\n"
   ]
  },
  {
   "cell_type": "markdown",
   "metadata": {},
   "source": [
    "### 3.2 作业\n",
    "从houses.csv中读取存储的数据，并参考3.1的示例代码，生成各种不同的图表：\n",
    "\n",
    "* 分析某个时间段内成都市某区的房价趋势，比如：2017年8月1日至9月1日成都市武侯区平均房价趋势(可把每次抓取的数据求平均)\n",
    "* 分析某个时间段内成都市某区按照房屋面积的房价趋势，比如：2017年8月1日至9月1日成都市武侯区80-100、100-120、120-140、140-160的房价走势。实际上在同一个图标内，比如3.1中的图标，用不同颜色的曲线标识不同房屋面积的房子的价格趋势。"
   ]
  },
  {
   "cell_type": "markdown",
   "metadata": {},
   "source": [
    "## 4. 如果遇到障碍或者困难，如何获取帮助\n",
    "* 首先在搜索引擎中去找寻答案，如果baidu不能得到有效答案，且无法访问google的，可使用英文版本的bing，用英文关键词搜索；\n",
    "* 其次可在[Stack Overflow](https://stackoverflow.com/)寻找答案；\n",
    "* 对于使用的第三方库的使用方法，建议直接到其官方网站的用户手册中寻找答案；\n",
    "* 对于要抓取的页面，每种主流浏览器都提供了开发者工具，可帮助你分析页面结构，便于你解析页面上的数据；\n",
    "* 如果到最后还是有疑问，可在微信群里面提出来，寻求其他同学或者老师的帮助。"
   ]
  },
  {
   "cell_type": "code",
   "execution_count": null,
   "metadata": {
    "collapsed": true
   },
   "outputs": [],
   "source": []
  }
 ],
 "metadata": {
  "kernelspec": {
   "display_name": "Python 3",
   "language": "python",
   "name": "python3"
  },
  "language_info": {
   "codemirror_mode": {
    "name": "ipython",
    "version": 3
   },
   "file_extension": ".py",
   "mimetype": "text/x-python",
   "name": "python",
   "nbconvert_exporter": "python",
   "pygments_lexer": "ipython3",
   "version": "3.6.5"
  }
 },
 "nbformat": 4,
 "nbformat_minor": 2
}
